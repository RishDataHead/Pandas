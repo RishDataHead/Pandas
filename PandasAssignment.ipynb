{
 "cells": [
  {
   "cell_type": "markdown",
   "metadata": {},
   "source": [
    "# Q1. How do you load a CSV file into a Pandas DataFrame?"
   ]
  },
  {
   "cell_type": "code",
   "execution_count": 2,
   "metadata": {},
   "outputs": [],
   "source": [
    "import pandas as pd"
   ]
  },
  {
   "cell_type": "code",
   "execution_count": 3,
   "metadata": {},
   "outputs": [],
   "source": [
    "import numpy as np"
   ]
  },
  {
   "cell_type": "markdown",
   "metadata": {},
   "source": [
    "#We can use read_csv() to load a csv file into a pandas Dataframe.\n",
    "\n",
    "import pandas as pd\n",
    "df = pd.read_csv(Filename)"
   ]
  },
  {
   "cell_type": "markdown",
   "metadata": {},
   "source": [
    "# Q2. How do you check the data type of a column in a Pandas DataFrame?"
   ]
  },
  {
   "cell_type": "markdown",
   "metadata": {},
   "source": [
    "We can either use dtypes attribute of a dataframe or we can use dtype method to know the data type of a particular column"
   ]
  },
  {
   "cell_type": "markdown",
   "metadata": {},
   "source": [
    "# Q3. How do you select rows from a Pandas DataFrame based on a condition?"
   ]
  },
  {
   "cell_type": "markdown",
   "metadata": {},
   "source": [
    "We can either use boolean indexing\n",
    "\n",
    "for example "
   ]
  },
  {
   "cell_type": "code",
   "execution_count": 2,
   "metadata": {},
   "outputs": [
    {
     "data": {
      "text/html": [
       "<div>\n",
       "<style scoped>\n",
       "    .dataframe tbody tr th:only-of-type {\n",
       "        vertical-align: middle;\n",
       "    }\n",
       "\n",
       "    .dataframe tbody tr th {\n",
       "        vertical-align: top;\n",
       "    }\n",
       "\n",
       "    .dataframe thead th {\n",
       "        text-align: right;\n",
       "    }\n",
       "</style>\n",
       "<table border=\"1\" class=\"dataframe\">\n",
       "  <thead>\n",
       "    <tr style=\"text-align: right;\">\n",
       "      <th></th>\n",
       "      <th>Name</th>\n",
       "      <th>Age</th>\n",
       "    </tr>\n",
       "  </thead>\n",
       "  <tbody>\n",
       "    <tr>\n",
       "      <th>1</th>\n",
       "      <td>Jane Doe</td>\n",
       "      <td>40</td>\n",
       "    </tr>\n",
       "  </tbody>\n",
       "</table>\n",
       "</div>"
      ],
      "text/plain": [
       "       Name  Age\n",
       "1  Jane Doe   40"
      ]
     },
     "execution_count": 2,
     "metadata": {},
     "output_type": "execute_result"
    }
   ],
   "source": [
    "df = pd.DataFrame({'Name':['John Doe','Jane Doe'], 'Age':[30,40]})\n",
    "\n",
    "df[df['Age'] > 30]"
   ]
  },
  {
   "cell_type": "markdown",
   "metadata": {},
   "source": [
    "Using the loc accessor\n",
    "\n",
    "The loc accessor can also be used to select rows from a DataFrame based on a condition. The loc accessor takes a comma-separated list of labels as its argument. The labels can be column names, row numbers, or a combination of both."
   ]
  },
  {
   "cell_type": "code",
   "execution_count": 3,
   "metadata": {},
   "outputs": [
    {
     "data": {
      "text/html": [
       "<div>\n",
       "<style scoped>\n",
       "    .dataframe tbody tr th:only-of-type {\n",
       "        vertical-align: middle;\n",
       "    }\n",
       "\n",
       "    .dataframe tbody tr th {\n",
       "        vertical-align: top;\n",
       "    }\n",
       "\n",
       "    .dataframe thead th {\n",
       "        text-align: right;\n",
       "    }\n",
       "</style>\n",
       "<table border=\"1\" class=\"dataframe\">\n",
       "  <thead>\n",
       "    <tr style=\"text-align: right;\">\n",
       "      <th></th>\n",
       "      <th>Name</th>\n",
       "      <th>Age</th>\n",
       "    </tr>\n",
       "  </thead>\n",
       "  <tbody>\n",
       "    <tr>\n",
       "      <th>0</th>\n",
       "      <td>John Doe</td>\n",
       "      <td>30</td>\n",
       "    </tr>\n",
       "  </tbody>\n",
       "</table>\n",
       "</div>"
      ],
      "text/plain": [
       "       Name  Age\n",
       "0  John Doe   30"
      ]
     },
     "execution_count": 3,
     "metadata": {},
     "output_type": "execute_result"
    }
   ],
   "source": [
    "df.loc[df['Name'] == 'John Doe']\n",
    "\n",
    "# Name     Age\n",
    "# 0  John Doe   30"
   ]
  },
  {
   "cell_type": "markdown",
   "metadata": {},
   "source": [
    "# Q4. How do you rename columns in a Pandas DataFrame?"
   ]
  },
  {
   "cell_type": "markdown",
   "metadata": {},
   "source": [
    "There are two ways to rename columns in a Pandas DataFrame:\n",
    "\n",
    "Using the rename method\n",
    "\n",
    "The rename method takes a dictionary as its argument. The dictionary maps the old column names to the new column names.\n",
    "\n",
    "For example, the following code renames the Name column to First Name and the Age column to Last Name:"
   ]
  },
  {
   "cell_type": "code",
   "execution_count": 4,
   "metadata": {},
   "outputs": [
    {
     "data": {
      "text/html": [
       "<div>\n",
       "<style scoped>\n",
       "    .dataframe tbody tr th:only-of-type {\n",
       "        vertical-align: middle;\n",
       "    }\n",
       "\n",
       "    .dataframe tbody tr th {\n",
       "        vertical-align: top;\n",
       "    }\n",
       "\n",
       "    .dataframe thead th {\n",
       "        text-align: right;\n",
       "    }\n",
       "</style>\n",
       "<table border=\"1\" class=\"dataframe\">\n",
       "  <thead>\n",
       "    <tr style=\"text-align: right;\">\n",
       "      <th></th>\n",
       "      <th>First Name</th>\n",
       "      <th>Last Name</th>\n",
       "    </tr>\n",
       "  </thead>\n",
       "  <tbody>\n",
       "    <tr>\n",
       "      <th>0</th>\n",
       "      <td>John Doe</td>\n",
       "      <td>30</td>\n",
       "    </tr>\n",
       "    <tr>\n",
       "      <th>1</th>\n",
       "      <td>Jane Doe</td>\n",
       "      <td>40</td>\n",
       "    </tr>\n",
       "  </tbody>\n",
       "</table>\n",
       "</div>"
      ],
      "text/plain": [
       "  First Name  Last Name\n",
       "0   John Doe         30\n",
       "1   Jane Doe         40"
      ]
     },
     "execution_count": 4,
     "metadata": {},
     "output_type": "execute_result"
    }
   ],
   "source": [
    "df = pd.DataFrame({'Name':['John Doe','Jane Doe'], 'Age':[30,40]})\n",
    "\n",
    "df = df.rename(columns={'Name':'First Name','Age':'Last Name'})\n",
    "\n",
    "df"
   ]
  },
  {
   "cell_type": "markdown",
   "metadata": {},
   "source": [
    "Using the columns attribute\n",
    "\n",
    "The columns attribute can be used to assign a new list of column names to the DataFrame.\n",
    "\n",
    "For example, the following code renames the Name column to First Name and the Age column to Last Name:"
   ]
  },
  {
   "cell_type": "code",
   "execution_count": 6,
   "metadata": {},
   "outputs": [
    {
     "data": {
      "text/html": [
       "<div>\n",
       "<style scoped>\n",
       "    .dataframe tbody tr th:only-of-type {\n",
       "        vertical-align: middle;\n",
       "    }\n",
       "\n",
       "    .dataframe tbody tr th {\n",
       "        vertical-align: top;\n",
       "    }\n",
       "\n",
       "    .dataframe thead th {\n",
       "        text-align: right;\n",
       "    }\n",
       "</style>\n",
       "<table border=\"1\" class=\"dataframe\">\n",
       "  <thead>\n",
       "    <tr style=\"text-align: right;\">\n",
       "      <th></th>\n",
       "      <th>First Name</th>\n",
       "      <th>Last Name</th>\n",
       "    </tr>\n",
       "  </thead>\n",
       "  <tbody>\n",
       "    <tr>\n",
       "      <th>0</th>\n",
       "      <td>John Doe</td>\n",
       "      <td>30</td>\n",
       "    </tr>\n",
       "    <tr>\n",
       "      <th>1</th>\n",
       "      <td>Jane Doe</td>\n",
       "      <td>40</td>\n",
       "    </tr>\n",
       "  </tbody>\n",
       "</table>\n",
       "</div>"
      ],
      "text/plain": [
       "  First Name  Last Name\n",
       "0   John Doe         30\n",
       "1   Jane Doe         40"
      ]
     },
     "execution_count": 6,
     "metadata": {},
     "output_type": "execute_result"
    }
   ],
   "source": [
    "df = pd.DataFrame({'Name':['John Doe','Jane Doe'], 'Age':[30,40]})\n",
    "\n",
    "df.columns = ['First Name','Last Name']\n",
    "\n",
    "df\n"
   ]
  },
  {
   "cell_type": "markdown",
   "metadata": {},
   "source": [
    "# Q5. How do you drop columns in a Pandas DataFrame?"
   ]
  },
  {
   "cell_type": "markdown",
   "metadata": {},
   "source": [
    "\n",
    "There are two ways to drop columns in a Pandas DataFrame:\n",
    "\n",
    "Using the drop() method\n",
    "The drop() method takes a list of column names as its argument. The columns will be dropped from the DataFrame.\n",
    "\n",
    "For example, the following code drops the Name column from the DataFrame df:"
   ]
  },
  {
   "cell_type": "code",
   "execution_count": 7,
   "metadata": {},
   "outputs": [
    {
     "name": "stdout",
     "output_type": "stream",
     "text": [
      "   Age\n",
      "0   30\n",
      "1   40\n"
     ]
    }
   ],
   "source": [
    "df = pd.DataFrame({'Name':['John Doe','Jane Doe'], 'Age':[30,40]})\n",
    "\n",
    "df = df.drop('Name', axis=1)\n",
    "\n",
    "print(df)"
   ]
  },
  {
   "cell_type": "markdown",
   "metadata": {},
   "source": [
    "Using the pop() method\n",
    "The pop() method takes a column name as its argument. The column will be removed from the DataFrame and returned."
   ]
  },
  {
   "cell_type": "code",
   "execution_count": 8,
   "metadata": {},
   "outputs": [
    {
     "name": "stdout",
     "output_type": "stream",
     "text": [
      "   Age\n",
      "0   30\n",
      "1   40\n"
     ]
    }
   ],
   "source": [
    "df = pd.DataFrame({'Name':['John Doe','Jane Doe'], 'Age':[30,40]})\n",
    "\n",
    "name_column = df.pop('Name')\n",
    "\n",
    "print(df)"
   ]
  },
  {
   "cell_type": "markdown",
   "metadata": {},
   "source": [
    "# Q6. How do you find the unique values in a column of a Pandas DataFrame?"
   ]
  },
  {
   "cell_type": "markdown",
   "metadata": {},
   "source": [
    "There are two ways to find the unique values in a column of a Pandas DataFrame:\n",
    "\n",
    "Using the unique() method\n",
    "The unique() method returns a list of unique values in the column."
   ]
  },
  {
   "cell_type": "code",
   "execution_count": 11,
   "metadata": {},
   "outputs": [
    {
     "name": "stdout",
     "output_type": "stream",
     "text": [
      "['John Doe' 'Jane Doe']\n"
     ]
    }
   ],
   "source": [
    "df = pd.DataFrame({'Name':['John Doe','Jane Doe','John Doe'], 'Age':[30,40,10]})\n",
    "\n",
    "unique_values = df['Name'].unique()\n",
    "\n",
    "print(unique_values)"
   ]
  },
  {
   "cell_type": "markdown",
   "metadata": {},
   "source": [
    "Using the set() method\n",
    "The set() method returns a set of unique values in the column.\n",
    "\n",
    "For example, the following code finds the unique values in the Name column of the DataFrame df:"
   ]
  },
  {
   "cell_type": "code",
   "execution_count": 12,
   "metadata": {},
   "outputs": [
    {
     "name": "stdout",
     "output_type": "stream",
     "text": [
      "{'Jane Doe', 'John Doe'}\n"
     ]
    }
   ],
   "source": [
    "df = pd.DataFrame({'Name':['John Doe','Jane Doe'], 'Age':[30,40]})\n",
    "\n",
    "unique_values = set(df['Name'])\n",
    "\n",
    "print(unique_values)"
   ]
  },
  {
   "cell_type": "markdown",
   "metadata": {},
   "source": [
    "# Q7. How do you find the number of missing values in each column of a Pandas DataFrame?"
   ]
  },
  {
   "cell_type": "markdown",
   "metadata": {},
   "source": [
    "There are two ways to find the number of missing values in each column of a Pandas DataFrame:\n",
    "\n",
    "Using the isna() method\n",
    "The isna() method returns a Boolean Series that indicates whether each value in the column is missing.\n",
    "\n",
    "For example, the following code finds the number of missing values in the Name column of the DataFrame df:"
   ]
  },
  {
   "cell_type": "code",
   "execution_count": 22,
   "metadata": {},
   "outputs": [
    {
     "name": "stdout",
     "output_type": "stream",
     "text": [
      "0    False\n",
      "1    False\n",
      "2     True\n",
      "Name: Name, dtype: bool\n"
     ]
    }
   ],
   "source": [
    "df = pd.DataFrame({'Name':['John Doe','Jane Doe',None], 'Age':[30,40,40]})\n",
    "\n",
    "missing_values = df['Name'].isna()\n",
    "\n",
    "print(missing_values)"
   ]
  },
  {
   "cell_type": "markdown",
   "metadata": {},
   "source": [
    "The sum() method can then be used to count the number of True values in the Boolean Series.\n",
    "\n",
    "For example, the following code finds the number of missing values in the Name column of the DataFrame df"
   ]
  },
  {
   "cell_type": "code",
   "execution_count": 24,
   "metadata": {},
   "outputs": [
    {
     "name": "stdout",
     "output_type": "stream",
     "text": [
      "1\n"
     ]
    }
   ],
   "source": [
    "df = pd.DataFrame({'Name':['John Doe','Jane Doe',None], 'Age':[30,40,40]})\n",
    "\n",
    "missing_values = df['Name'].isna()\n",
    "\n",
    "number_of_missing_values = missing_values.sum()\n",
    "\n",
    "print(number_of_missing_values)"
   ]
  },
  {
   "cell_type": "markdown",
   "metadata": {},
   "source": [
    "Using the isnull() method\n",
    "The isnull() method is equivalent to the isna() method.\n",
    "\n",
    "For example, the following code finds the number of missing values in the Name column of the DataFrame df:"
   ]
  },
  {
   "cell_type": "code",
   "execution_count": 26,
   "metadata": {},
   "outputs": [
    {
     "name": "stdout",
     "output_type": "stream",
     "text": [
      "1\n"
     ]
    }
   ],
   "source": [
    "df = pd.DataFrame({'Name':['John Doe','Jane Doe',None], 'Age':[30,40,40]})\n",
    "\n",
    "missing_values = df['Name'].isnull()\n",
    "\n",
    "number_of_missing_values = missing_values.sum()\n",
    "\n",
    "print(number_of_missing_values)\n"
   ]
  },
  {
   "cell_type": "markdown",
   "metadata": {},
   "source": [
    "# Q8. How do you fill missing values in a Pandas DataFrame with a specific value?"
   ]
  },
  {
   "cell_type": "markdown",
   "metadata": {},
   "source": [
    "There are two ways to fill missing values in a Pandas DataFrame with a specific value:\n",
    "\n",
    "Using the fillna() method\n",
    "The fillna() method takes a value as its argument and fills all missing values in the column with that value.\n",
    "\n",
    "For example, the following code fills all missing values in the Name column of the DataFrame df with the value \"Unknown\":"
   ]
  },
  {
   "cell_type": "code",
   "execution_count": 30,
   "metadata": {},
   "outputs": [
    {
     "name": "stdout",
     "output_type": "stream",
     "text": [
      "       Name  Age\n",
      "0  John Doe   30\n",
      "1  Jane Doe   40\n",
      "2   Unknown   40\n"
     ]
    }
   ],
   "source": [
    "df = pd.DataFrame({'Name':['John Doe','Jane Doe',None], 'Age':[30,40,40]})\n",
    "\n",
    "df['Name'] = df['Name'].fillna('Unknown')\n",
    "\n",
    "print(df)"
   ]
  },
  {
   "cell_type": "markdown",
   "metadata": {},
   "source": [
    "Using the replace() method\n",
    "The replace() method takes a dictionary as its argument. The dictionary maps missing values to the values that you want to fill them with.\n",
    "\n",
    "For example, the following code fills all missing values in the Name column of the DataFrame df with the value \"Unknown\":\n",
    "\n"
   ]
  },
  {
   "cell_type": "code",
   "execution_count": 39,
   "metadata": {},
   "outputs": [
    {
     "name": "stdout",
     "output_type": "stream",
     "text": [
      "       Name  Age\n",
      "0  John Doe   30\n",
      "1  Jane Doe   40\n",
      "2   Unknown   40\n"
     ]
    }
   ],
   "source": [
    "df = pd.DataFrame({'Name':['John Doe','Jane Doe',np.nan], 'Age':[30,40,40]})\n",
    "\n",
    "df['Name'] = df['Name'].replace(np.nan, 'Unknown')\n",
    "\n",
    "print(df)"
   ]
  },
  {
   "cell_type": "markdown",
   "metadata": {},
   "source": [
    "# Q9. How do you concatenate two Pandas DataFrames?"
   ]
  },
  {
   "cell_type": "markdown",
   "metadata": {},
   "source": [
    "\n",
    "To concatenate two Pandas DataFrames, you can use the concat() method. The concat() method takes a list of DataFrames as its argument and concatenates them along the specified axis.\n",
    "\n",
    "The default axis is 0, which means that the DataFrames will be concatenated along the rows.\n",
    "\n",
    "For example, the following code concatenates the DataFrames df1 and df2 along the rows:"
   ]
  },
  {
   "cell_type": "code",
   "execution_count": 41,
   "metadata": {},
   "outputs": [
    {
     "data": {
      "text/html": [
       "<div>\n",
       "<style scoped>\n",
       "    .dataframe tbody tr th:only-of-type {\n",
       "        vertical-align: middle;\n",
       "    }\n",
       "\n",
       "    .dataframe tbody tr th {\n",
       "        vertical-align: top;\n",
       "    }\n",
       "\n",
       "    .dataframe thead th {\n",
       "        text-align: right;\n",
       "    }\n",
       "</style>\n",
       "<table border=\"1\" class=\"dataframe\">\n",
       "  <thead>\n",
       "    <tr style=\"text-align: right;\">\n",
       "      <th></th>\n",
       "      <th>Name</th>\n",
       "      <th>Age</th>\n",
       "    </tr>\n",
       "  </thead>\n",
       "  <tbody>\n",
       "    <tr>\n",
       "      <th>0</th>\n",
       "      <td>John Doe</td>\n",
       "      <td>30</td>\n",
       "    </tr>\n",
       "    <tr>\n",
       "      <th>1</th>\n",
       "      <td>Jane Doe</td>\n",
       "      <td>40</td>\n",
       "    </tr>\n",
       "    <tr>\n",
       "      <th>0</th>\n",
       "      <td>Peter Smith</td>\n",
       "      <td>50</td>\n",
       "    </tr>\n",
       "    <tr>\n",
       "      <th>1</th>\n",
       "      <td>Mary Jones</td>\n",
       "      <td>60</td>\n",
       "    </tr>\n",
       "  </tbody>\n",
       "</table>\n",
       "</div>"
      ],
      "text/plain": [
       "          Name  Age\n",
       "0     John Doe   30\n",
       "1     Jane Doe   40\n",
       "0  Peter Smith   50\n",
       "1   Mary Jones   60"
      ]
     },
     "execution_count": 41,
     "metadata": {},
     "output_type": "execute_result"
    }
   ],
   "source": [
    "df1 = pd.DataFrame({'Name':['John Doe','Jane Doe'], 'Age':[30,40]})\n",
    "\n",
    "df2 = pd.DataFrame({'Name':['Peter Smith','Mary Jones'], 'Age':[50,60]})\n",
    "\n",
    "df = pd.concat([df1, df2])\n",
    "\n",
    "df"
   ]
  },
  {
   "cell_type": "markdown",
   "metadata": {},
   "source": [
    "You can also concatenate DataFrames along the columns by specifying axis=1.\n",
    "\n",
    "For example, the following code concatenates the DataFrames df1 and df2 along the columns:"
   ]
  },
  {
   "cell_type": "code",
   "execution_count": 42,
   "metadata": {},
   "outputs": [
    {
     "name": "stdout",
     "output_type": "stream",
     "text": [
      "       Name  Age         City State\n",
      "0  John Doe   30     New York    NY\n",
      "1  Jane Doe   40  Los Angeles    CA\n"
     ]
    }
   ],
   "source": [
    "df1 = pd.DataFrame({'Name':['John Doe','Jane Doe'], 'Age':[30,40]})\n",
    "\n",
    "df2 = pd.DataFrame({'City':['New York','Los Angeles'], 'State':['NY','CA']})\n",
    "\n",
    "df = pd.concat([df1, df2], axis=1)\n",
    "\n",
    "print(df)"
   ]
  },
  {
   "cell_type": "markdown",
   "metadata": {},
   "source": [
    "# Q10. How do you merge two Pandas DataFrames on a specific column?"
   ]
  },
  {
   "cell_type": "markdown",
   "metadata": {},
   "source": [
    "To merge two Pandas DataFrames on a specific column, you can use the merge() method. The merge() method takes two DataFrames as its arguments and merges them on the specified column.\n",
    "\n",
    "The default merge type is inner, which means that only rows that exist in both DataFrames will be included in the merged DataFrame.\n",
    "\n",
    "For example, the following code merges the DataFrames df1 and df2 on the Name column:"
   ]
  },
  {
   "cell_type": "code",
   "execution_count": 44,
   "metadata": {},
   "outputs": [
    {
     "name": "stdout",
     "output_type": "stream",
     "text": [
      "       Name  Age_x  Age_y\n",
      "0  John Doe     30     50\n"
     ]
    }
   ],
   "source": [
    "df1 = pd.DataFrame({'Name':['John Doe','Jane Doe'], 'Age':[30,40]})\n",
    "\n",
    "df2 = pd.DataFrame({'Name':['John Doe','Mary Jones'], 'Age':[50,60]})\n",
    "\n",
    "df = pd.merge(df1, df2, on='Name')\n",
    "\n",
    "print(df)"
   ]
  },
  {
   "cell_type": "markdown",
   "metadata": {},
   "source": [
    "## Example of outer merge"
   ]
  },
  {
   "cell_type": "code",
   "execution_count": 46,
   "metadata": {},
   "outputs": [
    {
     "data": {
      "text/html": [
       "<div>\n",
       "<style scoped>\n",
       "    .dataframe tbody tr th:only-of-type {\n",
       "        vertical-align: middle;\n",
       "    }\n",
       "\n",
       "    .dataframe tbody tr th {\n",
       "        vertical-align: top;\n",
       "    }\n",
       "\n",
       "    .dataframe thead th {\n",
       "        text-align: right;\n",
       "    }\n",
       "</style>\n",
       "<table border=\"1\" class=\"dataframe\">\n",
       "  <thead>\n",
       "    <tr style=\"text-align: right;\">\n",
       "      <th></th>\n",
       "      <th>Name</th>\n",
       "      <th>Age_x</th>\n",
       "      <th>Age_y</th>\n",
       "    </tr>\n",
       "  </thead>\n",
       "  <tbody>\n",
       "    <tr>\n",
       "      <th>0</th>\n",
       "      <td>John Doe</td>\n",
       "      <td>30.0</td>\n",
       "      <td>NaN</td>\n",
       "    </tr>\n",
       "    <tr>\n",
       "      <th>1</th>\n",
       "      <td>Jane Doe</td>\n",
       "      <td>40.0</td>\n",
       "      <td>NaN</td>\n",
       "    </tr>\n",
       "    <tr>\n",
       "      <th>2</th>\n",
       "      <td>Peter Smith</td>\n",
       "      <td>NaN</td>\n",
       "      <td>50.0</td>\n",
       "    </tr>\n",
       "    <tr>\n",
       "      <th>3</th>\n",
       "      <td>Mary Jones</td>\n",
       "      <td>NaN</td>\n",
       "      <td>60.0</td>\n",
       "    </tr>\n",
       "  </tbody>\n",
       "</table>\n",
       "</div>"
      ],
      "text/plain": [
       "          Name  Age_x  Age_y\n",
       "0     John Doe   30.0    NaN\n",
       "1     Jane Doe   40.0    NaN\n",
       "2  Peter Smith    NaN   50.0\n",
       "3   Mary Jones    NaN   60.0"
      ]
     },
     "execution_count": 46,
     "metadata": {},
     "output_type": "execute_result"
    }
   ],
   "source": [
    "df1 = pd.DataFrame({'Name':['John Doe','Jane Doe'], 'Age':[30,40]})\n",
    "\n",
    "df2 = pd.DataFrame({'Name':['Peter Smith','Mary Jones'], 'Age':[50,60]})\n",
    "\n",
    "df = pd.merge(df1, df2, on='Name', how='outer')\n",
    "df"
   ]
  },
  {
   "cell_type": "markdown",
   "metadata": {},
   "source": [
    "# Q11. How do you group data in a Pandas DataFrame by a specific column and apply an aggregation function?"
   ]
  },
  {
   "cell_type": "markdown",
   "metadata": {},
   "source": [
    "To group data in a Pandas DataFrame by a specific column and apply an aggregation function, you can use the groupby() method. The groupby() method takes a column name as its argument and returns a DataFrameGroupBy object.\n",
    "\n",
    "The DataFrameGroupBy object has a number of methods that can be used to apply aggregation functions. The most common aggregation functions are sum, mean, min, and max."
   ]
  },
  {
   "cell_type": "code",
   "execution_count": 48,
   "metadata": {},
   "outputs": [
    {
     "name": "stdout",
     "output_type": "stream",
     "text": [
      "Category\n",
      "A    27\n",
      "B    27\n",
      "Name: Value, dtype: int64\n"
     ]
    }
   ],
   "source": [
    "import pandas as pd\n",
    "\n",
    "# Create a sample DataFrame\n",
    "df = pd.DataFrame({'Category': ['A', 'B', 'A', 'B', 'A'],\n",
    "                   'Value': [10, 15, 8, 12, 9]})\n",
    "\n",
    "# Group the DataFrame by 'Category' and calculate the sum of 'Value' within each group\n",
    "grouped_df = df.groupby('Category')['Value'].sum()\n",
    "\n",
    "# Display the grouped DataFrame\n",
    "print(grouped_df)"
   ]
  },
  {
   "cell_type": "markdown",
   "metadata": {},
   "source": [
    "To pivot a Pandas DataFrame, you can use the pivot() function. The pivot() function reshapes the DataFrame by converting unique values from one column into new columns and redistributing the data accordingly."
   ]
  },
  {
   "cell_type": "code",
   "execution_count": 49,
   "metadata": {},
   "outputs": [
    {
     "name": "stdout",
     "output_type": "stream",
     "text": [
      "Variable     X     Y\n",
      "Category            \n",
      "A         10.0  15.0\n",
      "B          8.0  12.0\n",
      "C          5.0   NaN\n"
     ]
    }
   ],
   "source": [
    "import pandas as pd\n",
    "\n",
    "# Create a sample DataFrame\n",
    "df = pd.DataFrame({'Category': ['A', 'A', 'B', 'B', 'C'],\n",
    "                   'Value': [10, 15, 8, 12, 5],\n",
    "                   'Variable': ['X', 'Y', 'X', 'Y', 'X']})\n",
    "\n",
    "# Pivot the DataFrame\n",
    "pivoted_df = df.pivot(index='Category', columns='Variable', values='Value')\n",
    "\n",
    "# Display the pivoted DataFrame\n",
    "print(pivoted_df)"
   ]
  },
  {
   "cell_type": "markdown",
   "metadata": {},
   "source": [
    "# Q13. How do you change the data type of a column in a Pandas DataFrame?"
   ]
  },
  {
   "cell_type": "markdown",
   "metadata": {},
   "source": [
    "To change the data type of a column in a Pandas DataFrame, you can use the astype() method. The astype() method allows you to convert the data type of a column to a specified data type"
   ]
  },
  {
   "cell_type": "code",
   "execution_count": 50,
   "metadata": {},
   "outputs": [
    {
     "name": "stdout",
     "output_type": "stream",
     "text": [
      "   Column1 Column2\n",
      "0      1.0       A\n",
      "1      2.0       B\n",
      "2      3.0       C\n"
     ]
    }
   ],
   "source": [
    "import pandas as pd\n",
    "\n",
    "# Create a sample DataFrame\n",
    "df = pd.DataFrame({'Column1': [1, 2, 3],\n",
    "                   'Column2': ['A', 'B', 'C']})\n",
    "\n",
    "# Change the data type of 'Column1' to float\n",
    "df['Column1'] = df['Column1'].astype(float)\n",
    "\n",
    "# Display the modified DataFrame\n",
    "print(df)"
   ]
  },
  {
   "cell_type": "markdown",
   "metadata": {},
   "source": [
    "# Q14. How do you sort a Pandas DataFrame by a specific column?"
   ]
  },
  {
   "cell_type": "markdown",
   "metadata": {},
   "source": [
    "To sort a Pandas DataFrame by a specific column, you can use the sort_values() method. The sort_values() method allows you to sort the DataFrame based on one or more columns."
   ]
  },
  {
   "cell_type": "code",
   "execution_count": 51,
   "metadata": {},
   "outputs": [
    {
     "name": "stdout",
     "output_type": "stream",
     "text": [
      "      Name  Age      City\n",
      "2      Bob   22    London\n",
      "0     John   25  New York\n",
      "1    Alice   30     Paris\n",
      "3  Charlie   35    Sydney\n"
     ]
    }
   ],
   "source": [
    "import pandas as pd\n",
    "\n",
    "# Create a sample DataFrame\n",
    "df = pd.DataFrame({'Name': ['John', 'Alice', 'Bob', 'Charlie'],\n",
    "                   'Age': [25, 30, 22, 35],\n",
    "                   'City': ['New York', 'Paris', 'London', 'Sydney']})\n",
    "\n",
    "# Sort the DataFrame by the 'Age' column in ascending order\n",
    "sorted_df = df.sort_values('Age')\n",
    "\n",
    "# Display the sorted DataFrame\n",
    "print(sorted_df)"
   ]
  },
  {
   "cell_type": "markdown",
   "metadata": {},
   "source": [
    "# Q15. How do you create a copy of a Pandas DataFrame?"
   ]
  },
  {
   "cell_type": "markdown",
   "metadata": {},
   "source": [
    "To create a copy of a Pandas DataFrame, you can use the copy() method. The copy() method returns a new DataFrame that is a deep copy of the original DataFrame.\n",
    "\n",
    "For example, the following code creates a copy of the DataFrame df:"
   ]
  },
  {
   "cell_type": "code",
   "execution_count": 52,
   "metadata": {},
   "outputs": [
    {
     "name": "stdout",
     "output_type": "stream",
     "text": [
      "       Name  Age\n",
      "0  John Doe   30\n",
      "1  Jane Doe   40\n"
     ]
    }
   ],
   "source": [
    "df = pd.DataFrame({'Name':['John Doe','Jane Doe'], 'Age':[30,40]})\n",
    "\n",
    "df2 = df.copy()\n",
    "\n",
    "print(df2)"
   ]
  },
  {
   "cell_type": "markdown",
   "metadata": {},
   "source": [
    "The df2 DataFrame is a separate object from the df DataFrame. Any changes made to df2 will not be reflected in df."
   ]
  },
  {
   "cell_type": "markdown",
   "metadata": {},
   "source": [
    "# Q16. How do you filter rows of a Pandas DataFrame by multiple conditions?"
   ]
  },
  {
   "cell_type": "markdown",
   "metadata": {},
   "source": [
    "To filter rows of a Pandas DataFrame by multiple conditions, you can use the loc() method. The loc() method takes a Boolean Series as its argument. The Boolean Series is created by using the & operator to combine the individual conditions.\n",
    "\n",
    "For example, the following code filters the DataFrame df to only include rows where the Age column is greater than 30 and the Name column starts with the letter \"J\":"
   ]
  },
  {
   "cell_type": "code",
   "execution_count": 54,
   "metadata": {},
   "outputs": [
    {
     "name": "stdout",
     "output_type": "stream",
     "text": [
      "       Name  Age\n",
      "0  John Doe   30\n",
      "1  Jane Doe   40\n"
     ]
    }
   ],
   "source": [
    "df = pd.DataFrame({'Name':['John Doe','Jane Doe','Peter Smith'], 'Age':[30,40,50]})\n",
    "\n",
    "filtered_df = df.loc[(df['Age'] >= 30) & (df['Name'].str.startswith('J'))]\n",
    "\n",
    "print(filtered_df)"
   ]
  },
  {
   "cell_type": "markdown",
   "metadata": {},
   "source": [
    "# Q17. How do you calculate the mean of a column in a Pandas DataFrame?"
   ]
  },
  {
   "cell_type": "markdown",
   "metadata": {},
   "source": [
    "To calculate the mean of a column in a Pandas DataFrame, you can use the mean() method. The mean() method computes the arithmetic mean (average) of the values in a column."
   ]
  },
  {
   "cell_type": "code",
   "execution_count": 7,
   "metadata": {},
   "outputs": [
    {
     "name": "stdout",
     "output_type": "stream",
     "text": [
      "30.0\n"
     ]
    }
   ],
   "source": [
    "# Create a sample DataFrame\n",
    "df = pd.DataFrame({'Column1': [10, 20, 30, 40, 50]})\n",
    "\n",
    "# Calculate the mean of 'Column1'\n",
    "mean_value = df['Column1'].mean()\n",
    "\n",
    "# Print the mean value\n",
    "print(mean_value)"
   ]
  },
  {
   "cell_type": "markdown",
   "metadata": {},
   "source": [
    "# Q18. How do you calculate the standard deviation of a column in a Pandas DataFrame?"
   ]
  },
  {
   "cell_type": "code",
   "execution_count": 9,
   "metadata": {},
   "outputs": [
    {
     "name": "stdout",
     "output_type": "stream",
     "text": [
      "15.811388300841896\n"
     ]
    }
   ],
   "source": [
    "Standard_deviation = df['Column1'].std()\n",
    "\n",
    "print(Standard_deviation)"
   ]
  },
  {
   "cell_type": "markdown",
   "metadata": {},
   "source": [
    "# Q19. How do you calculate the correlation between two columns in a Pandas DataFrame?"
   ]
  },
  {
   "cell_type": "markdown",
   "metadata": {},
   "source": [
    "To calculate the correlation between two columns in a Pandas DataFrame, you can use the corr() method. The corr() method takes two column names as its arguments and returns a float value. The float value is the correlation coefficient between the two columns.\n",
    "\n",
    "The correlation coefficient is a measure of the linear relationship between two variables. The correlation coefficient can range from -1 to 1. A correlation coefficient of -1 indicates a perfect negative relationship, a correlation coefficient of 0 indicates no relationship, and a correlation coefficient of 1 indicates a perfect positive relationship.\n",
    "\n",
    "For example, the following code calculates the correlation between the Age and Weight columns in the df DataFrame:"
   ]
  },
  {
   "cell_type": "code",
   "execution_count": 10,
   "metadata": {},
   "outputs": [
    {
     "name": "stdout",
     "output_type": "stream",
     "text": [
      "1.0\n"
     ]
    }
   ],
   "source": [
    "df = pd.DataFrame({'Age':[30,40,50], 'Weight':[150,200,250]})\n",
    "\n",
    "correlation = df['Age'].corr(df['Weight'])\n",
    "\n",
    "print(correlation)\n"
   ]
  },
  {
   "cell_type": "markdown",
   "metadata": {},
   "source": [
    "The line correlation = df['Age'].corr(df['Weight']) calculates the correlation between the 'Age' and 'Weight' columns using the corr() method. The corr() method is used to compute the correlation coefficient between two series or columns in a DataFrame. In this case, it calculates the correlation coefficient between the 'Age' and 'Weight' columns"
   ]
  },
  {
   "cell_type": "markdown",
   "metadata": {},
   "source": [
    "# Q20. How do you select specific columns in a DataFrame using their labels?"
   ]
  },
  {
   "cell_type": "markdown",
   "metadata": {},
   "source": [
    "To select specific columns in a DataFrame using their labels, you can use the square brackets []. The square brackets take a list of column names as their argument.\n",
    "\n",
    "For example, the following code selects the Age and Weight columns from the df DataFrame:"
   ]
  },
  {
   "cell_type": "code",
   "execution_count": 11,
   "metadata": {},
   "outputs": [
    {
     "name": "stdout",
     "output_type": "stream",
     "text": [
      "   Age  Weight\n",
      "0   30     150\n",
      "1   40     200\n",
      "2   50     250\n"
     ]
    }
   ],
   "source": [
    "df = pd.DataFrame({'Age':[30,40,50], 'Weight':[150,200,250]})\n",
    "\n",
    "selected_columns = df[['Age','Weight']]\n",
    "\n",
    "print(selected_columns)"
   ]
  },
  {
   "cell_type": "markdown",
   "metadata": {},
   "source": [
    "You can also use the loc() method to select specific columns in a DataFrame using their labels. The loc() method takes a list of column names as its argument."
   ]
  },
  {
   "cell_type": "code",
   "execution_count": 12,
   "metadata": {},
   "outputs": [
    {
     "name": "stdout",
     "output_type": "stream",
     "text": [
      "   Age  Weight\n",
      "0   30     150\n",
      "1   40     200\n",
      "2   50     250\n"
     ]
    }
   ],
   "source": [
    "df = pd.DataFrame({'Age':[30,40,50], 'Weight':[150,200,250]})\n",
    "\n",
    "selected_columns = df.loc[:,['Age','Weight']]\n",
    "\n",
    "print(selected_columns)"
   ]
  },
  {
   "cell_type": "markdown",
   "metadata": {},
   "source": [
    "# Q21. How do you select specific rows in a DataFrame using their indexes?"
   ]
  },
  {
   "cell_type": "code",
   "execution_count": 15,
   "metadata": {},
   "outputs": [
    {
     "name": "stdout",
     "output_type": "stream",
     "text": [
      "       Name  Age\n",
      "1  Jane Doe   40\n"
     ]
    }
   ],
   "source": [
    "df = pd.DataFrame({'Name':['John Doe','Jane Doe','Peter Smith'], 'Age':[30,40,50]})\n",
    "\n",
    "selected_rows = df[1:2]\n",
    "\n",
    "print(selected_rows)"
   ]
  },
  {
   "cell_type": "markdown",
   "metadata": {},
   "source": [
    "# Using the loc() method\n",
    "The loc() method takes a list of row indexes as its argument.\n",
    "\n",
    "For example, the following code is equivalent to the previous code:"
   ]
  },
  {
   "cell_type": "code",
   "execution_count": 16,
   "metadata": {},
   "outputs": [
    {
     "name": "stdout",
     "output_type": "stream",
     "text": [
      "          Name  Age\n",
      "0     John Doe   30\n",
      "2  Peter Smith   50\n"
     ]
    }
   ],
   "source": [
    "df = pd.DataFrame({'Name':['John Doe','Jane Doe','Peter Smith'], 'Age':[30,40,50]})\n",
    "\n",
    "selected_rows = df.loc[[0,2]]\n",
    "\n",
    "print(selected_rows)"
   ]
  },
  {
   "cell_type": "markdown",
   "metadata": {},
   "source": [
    "# Q22. How do you sort a DataFrame by a specific column?"
   ]
  },
  {
   "cell_type": "markdown",
   "metadata": {},
   "source": [
    "## Same answer as in Q14"
   ]
  },
  {
   "cell_type": "markdown",
   "metadata": {},
   "source": [
    "# Q23. How do you create a new column in a DataFrame based on the values of another column?"
   ]
  },
  {
   "cell_type": "markdown",
   "metadata": {},
   "source": [
    "To create a new column in a DataFrame based on the values of another column, you can assign a new column with the desired values to the DataFrame.\n",
    "\n",
    "Here's an example of how to create a new column based on the values of an existing column:"
   ]
  },
  {
   "cell_type": "code",
   "execution_count": 22,
   "metadata": {},
   "outputs": [
    {
     "name": "stdout",
     "output_type": "stream",
     "text": [
      "   A   B\n",
      "0  1   2\n",
      "1  2   4\n",
      "2  3   6\n",
      "3  4   8\n",
      "4  5  10\n"
     ]
    }
   ],
   "source": [
    "# Create a sample DataFrame\n",
    "df = pd.DataFrame({'A': [1, 2, 3, 4, 5]})\n",
    "\n",
    "# Create a new column 'B' based on values in column 'A'\n",
    "df['B'] = df['A'] * 2\n",
    "\n",
    "print(df)"
   ]
  },
  {
   "cell_type": "markdown",
   "metadata": {},
   "source": [
    "# Q24. How do you remove duplicates from a DataFrame?"
   ]
  },
  {
   "cell_type": "markdown",
   "metadata": {},
   "source": [
    "To remove duplicates from a DataFrame, you can use the drop_duplicates() method. The drop_duplicates() method removes rows that have duplicate values across all columns or specific columns in the DataFrame.\n",
    "\n",
    "Here's an example of how to remove duplicates from a DataFrame:"
   ]
  },
  {
   "cell_type": "code",
   "execution_count": 24,
   "metadata": {},
   "outputs": [
    {
     "name": "stdout",
     "output_type": "stream",
     "text": [
      "   A  B\n",
      "0  1  a\n",
      "1  2  b\n",
      "3  3  c\n",
      "4  4  c\n",
      "5  4  d\n"
     ]
    }
   ],
   "source": [
    "df = pd.DataFrame({'A': [1, 2, 2, 3, 4, 4],\n",
    "                   'B': ['a', 'b', 'b', 'c', 'c', 'd']})\n",
    "\n",
    "# Remove duplicates from the DataFrame\n",
    "df_unique = df.drop_duplicates()\n",
    "\n",
    "print(df_unique)"
   ]
  },
  {
   "cell_type": "markdown",
   "metadata": {},
   "source": [
    "# Q25. What is the difference between .loc and .iloc in Pandas?"
   ]
  },
  {
   "cell_type": "markdown",
   "metadata": {},
   "source": [
    "The main difference between .loc and .iloc in Pandas is the way they access and index data in a DataFrame.\n",
    "\n",
    ".loc is primarily label-based indexing, which means it accesses and retrieves data based on the label or index name. It accepts label-based selections, slices, or boolean arrays to filter rows and columns."
   ]
  },
  {
   "cell_type": "code",
   "execution_count": 27,
   "metadata": {},
   "outputs": [],
   "source": [
    "import pandas as pd\n",
    "\n",
    "# Create a sample DataFrame\n",
    "df = pd.DataFrame({'A': [1, 2, 3], 'B': [4, 5, 6]}, index=['a', 'b', 'c'])\n",
    "\n",
    "# Access rows and columns using label-based indexing\n",
    "value = df.loc['a', 'A']  # Access value at row 'a' and column 'A'\n",
    "subset = df.loc[['a', 'b'], 'B']  # Access a subset of rows and column 'B'\n",
    "slice_rows = df.loc['a':'c', 'A']  # Access a slice of rows and column 'A'\n",
    "boolean_filter = df.loc[df['A'] > 1, 'B']  # Use boolean filtering on rows and column 'B'\n"
   ]
  },
  {
   "cell_type": "markdown",
   "metadata": {},
   "source": [
    "On the other hand, .iloc is primarily integer-based indexing, which means it accesses and retrieves data based on the integer positions. It accepts integer-based selections, slices, or boolean arrays to filter rows and columns."
   ]
  },
  {
   "cell_type": "code",
   "execution_count": 29,
   "metadata": {},
   "outputs": [],
   "source": [
    "import pandas as pd\n",
    "\n",
    "# Create a sample DataFrame\n",
    "df = pd.DataFrame({'A': [1, 2, 3], 'B': [4, 5, 6]})\n",
    "\n",
    "# Access rows and columns using integer-based indexing\n",
    "value = df.iloc[0, 0]  # Access value at row 0 and column 0\n",
    "subset = df.iloc[[0, 1], 1]  # Access a subset of rows and column 1\n",
    "slice_rows = df.iloc[0:2, 0]  # Access a slice of rows and column 0\n"
   ]
  },
  {
   "cell_type": "markdown",
   "metadata": {},
   "source": [
    "In summary, the key distinction between .loc and .iloc lies in the type of indexing used. .loc operates on label-based indexing, allowing you to access data using labels or index names, while .iloc operates on integer-based indexing, enabling you to access data using integer positions."
   ]
  },
  {
   "cell_type": "code",
   "execution_count": 31,
   "metadata": {},
   "outputs": [],
   "source": [
    "import pandas as pd\n",
    "\n",
    "# Create a sample DataFrame\n",
    "df = pd.DataFrame({'A': [1, 2, 3]}, index=['a', 'b', 'c'])\n",
    "\n",
    "# Preferred: Label-based indexing using .loc[]\n",
    "rows = df.loc[['a', 'b']]  # Extract rows with specific index labels"
   ]
  },
  {
   "cell_type": "code",
   "execution_count": 32,
   "metadata": {},
   "outputs": [
    {
     "data": {
      "text/html": [
       "<div>\n",
       "<style scoped>\n",
       "    .dataframe tbody tr th:only-of-type {\n",
       "        vertical-align: middle;\n",
       "    }\n",
       "\n",
       "    .dataframe tbody tr th {\n",
       "        vertical-align: top;\n",
       "    }\n",
       "\n",
       "    .dataframe thead th {\n",
       "        text-align: right;\n",
       "    }\n",
       "</style>\n",
       "<table border=\"1\" class=\"dataframe\">\n",
       "  <thead>\n",
       "    <tr style=\"text-align: right;\">\n",
       "      <th></th>\n",
       "      <th>A</th>\n",
       "    </tr>\n",
       "  </thead>\n",
       "  <tbody>\n",
       "    <tr>\n",
       "      <th>a</th>\n",
       "      <td>1</td>\n",
       "    </tr>\n",
       "    <tr>\n",
       "      <th>b</th>\n",
       "      <td>2</td>\n",
       "    </tr>\n",
       "  </tbody>\n",
       "</table>\n",
       "</div>"
      ],
      "text/plain": [
       "   A\n",
       "a  1\n",
       "b  2"
      ]
     },
     "execution_count": 32,
     "metadata": {},
     "output_type": "execute_result"
    }
   ],
   "source": [
    "rows"
   ]
  },
  {
   "cell_type": "code",
   "execution_count": 33,
   "metadata": {},
   "outputs": [
    {
     "data": {
      "text/html": [
       "<div>\n",
       "<style scoped>\n",
       "    .dataframe tbody tr th:only-of-type {\n",
       "        vertical-align: middle;\n",
       "    }\n",
       "\n",
       "    .dataframe tbody tr th {\n",
       "        vertical-align: top;\n",
       "    }\n",
       "\n",
       "    .dataframe thead th {\n",
       "        text-align: right;\n",
       "    }\n",
       "</style>\n",
       "<table border=\"1\" class=\"dataframe\">\n",
       "  <thead>\n",
       "    <tr style=\"text-align: right;\">\n",
       "      <th></th>\n",
       "      <th>A</th>\n",
       "    </tr>\n",
       "  </thead>\n",
       "  <tbody>\n",
       "    <tr>\n",
       "      <th>a</th>\n",
       "      <td>1</td>\n",
       "    </tr>\n",
       "    <tr>\n",
       "      <th>b</th>\n",
       "      <td>2</td>\n",
       "    </tr>\n",
       "    <tr>\n",
       "      <th>c</th>\n",
       "      <td>3</td>\n",
       "    </tr>\n",
       "  </tbody>\n",
       "</table>\n",
       "</div>"
      ],
      "text/plain": [
       "   A\n",
       "a  1\n",
       "b  2\n",
       "c  3"
      ]
     },
     "execution_count": 33,
     "metadata": {},
     "output_type": "execute_result"
    }
   ],
   "source": [
    "df"
   ]
  },
  {
   "cell_type": "code",
   "execution_count": 38,
   "metadata": {},
   "outputs": [
    {
     "data": {
      "text/plain": [
       "a    1\n",
       "b    2\n",
       "c    3\n",
       "Name: A, dtype: int64"
      ]
     },
     "execution_count": 38,
     "metadata": {},
     "output_type": "execute_result"
    }
   ],
   "source": [
    "df['A']"
   ]
  },
  {
   "cell_type": "code",
   "execution_count": null,
   "metadata": {},
   "outputs": [],
   "source": []
  }
 ],
 "metadata": {
  "kernelspec": {
   "display_name": "Python 3",
   "language": "python",
   "name": "python3"
  },
  "language_info": {
   "codemirror_mode": {
    "name": "ipython",
    "version": 3
   },
   "file_extension": ".py",
   "mimetype": "text/x-python",
   "name": "python",
   "nbconvert_exporter": "python",
   "pygments_lexer": "ipython3",
   "version": "3.7.6"
  }
 },
 "nbformat": 4,
 "nbformat_minor": 4
}
